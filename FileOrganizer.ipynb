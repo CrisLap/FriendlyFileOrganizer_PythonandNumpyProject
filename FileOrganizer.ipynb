{
 "cells": [
  {
   "cell_type": "markdown",
   "id": "b374a7d1",
   "metadata": {},
   "source": [
    "Il seguente script crea le cartelle (dopo aver controllato che non esistano già) \"audio\", \"docs\" e \"images\".Dopodiché, itera la cartella principale spostando ogni file a seconda della propria estensione nella cartella di riferimento e compila un file csv in cui annota il nome, il formato e la dimensione di tale file. Come da indicazione, si suppone che il notebook sia allo stello livello(cioè nella stessa cartella) della cartella files che contiene i file da spostare. Si utilizzano pertanto riferimenti relativi"
   ]
  },
  {
   "cell_type": "code",
   "execution_count": 1,
   "id": "eef41225",
   "metadata": {},
   "outputs": [
    {
     "name": "stdout",
     "output_type": "stream",
     "text": [
      "bw type:image size:94926B\n",
      "ciao type:doc size:12B\n",
      "daffodil type:image size:24657B\n",
      "eclipse type:image size:64243B\n",
      "pippo type:doc size:8299B\n",
      "song1 type:audio size:1087849B\n",
      "song2 type:audio size:764176B\n",
      "trump type:image size:10195B\n"
     ]
    }
   ],
   "source": [
    "# Script step 1\n",
    "\n",
    "# importiamo i moduli che ci serviranno\n",
    "import os\n",
    "import shutil\n",
    "import csv\n",
    "\n",
    "# per prima cosa, creiamo le cartelle (se non esistono già) in cui verranno spostati i file.\n",
    "for foldername in [\"audio\", \"docs\", \"images\"]:\n",
    "    new_folder = os.path.join(\"\", foldername)\n",
    "    if not os.path.exists(new_folder):\n",
    "        os.makedirs(new_folder)\n",
    "\n",
    "# creiamo le tuple che contengono i formati file più comuni per ogni tipo di file che andremo ad analizzare:\n",
    "\n",
    "docs_extensions = (\".txt\", \".doc\", \".docx\", \".pages\", \".odt\", \".rtf\", \".tex\")\n",
    "audio_extensions = (\".mp3\", \".mp4\", \".m4a\", \".wma\", \".flac\", \",aac\")\n",
    "images_extensions = (\".jpg\", \".jpeg\", \".png\", \".gif\", \".bmp\", \".tiff\")\n",
    "\n",
    "# controllo se il file di recape esiste ed eventualmente lo creo\n",
    "if not os.path.exists(\"recap.csv\"):  # se non esiste\n",
    "    recap = open(\"recap.csv\",\"w\", newline=\"\")# lo creo\n",
    "    writer = csv.writer(recap)\n",
    "    writer.writerow([\"name\", \"type\", \"size (B)\"]) # scrivo header del csv\n",
    "else:  # se esiste già\n",
    "    recap = open(\"recap.csv\", \"a\", newline=\"\") # lo apro in 'append' con 'a'\n",
    "    writer = csv.writer(recap)\n",
    "\n",
    "\n",
    "# iteriamo in ordine alfabetico i file nella cartella \"files\":\n",
    "for file in sorted(os.listdir()):\n",
    "    \n",
    "    file_name, file_extention = os.path.splitext(file) # separo il nome del file dalla sua estensione\n",
    "    current_folder = \"\" + file  # specifica il percorso del file\n",
    "    size = os.stat(current_folder).st_size  # calcola la dimensione del file\n",
    "\n",
    "    # usiamo il metodo \"endswith\" per prendere in considerazione i formati file e smistarli nelle relative cartelle:\n",
    "    if file.endswith(docs_extensions):\n",
    "        # questa sarà la cartella in cui verrà spostato il file docs\n",
    "        final_folder = (\"docs/\" + file)\n",
    "        # con shutil.move sposto il file dalla cartella iniziale a quella di destinazione\n",
    "        shutil.move(current_folder, final_folder)\n",
    "        writer.writerow([file_name, \"doc\", size])  # aggiorno recap\n",
    "        # stampo le info richieste dei file(nome, tipo e dimensioni in byte) secondo l'output desiderato\n",
    "        print(\"{} type:doc size:{}B\".format(file_name, size))\n",
    "\n",
    "    elif file.endswith(audio_extensions):\n",
    "        # questa sarà la cartella in cui verrà spostato il file audio\n",
    "        final_folder = (\"audio/\" + file)\n",
    "        # con shutil.move sposto il file dalla cartella iniziale a quella di destinazione\n",
    "        shutil.move(current_folder, final_folder)\n",
    "        writer.writerow([file_name, \"audio\", size])  # aggiorno recap\n",
    "        # stampo le info richieste dei file(nome, tipo e dimensioni in byte) secondo l'output desiderato\n",
    "        print(\"{} type:audio size:{}B\".format(file_name, size))\n",
    "\n",
    "    elif file.endswith(images_extensions):\n",
    "        # questa sarà la cartella in cui verrà spostato il file image\n",
    "        final_folder = (\"images/\" + file)\n",
    "        # con shutil.move sposto il file dalla cartella iniziale a quella di destinazione\n",
    "        shutil.move(current_folder, final_folder)\n",
    "        writer.writerow([file_name, \"image\", size])  # aggiorno recap\n",
    "        # stampo le info richieste dei file(nome, tipo e dimensioni in byte) secondo l'output desiderato\n",
    "        print(\"{} type:image size:{}B\".format(file_name, size))\n",
    "\n",
    "recap.close()  # chiudo il file di recap al termine della compilazione"
   ]
  },
  {
   "cell_type": "markdown",
   "id": "7be25c63",
   "metadata": {},
   "source": [
    "Il seguente script, invece, analizza le immagini presenti nella cartella images e ne estrae le informazioni di colore sfruttando la libreria Numpy.\n",
    "Infine stampa una tabella contenente le informazioni raccolte."
   ]
  },
  {
   "cell_type": "code",
   "execution_count": 2,
   "id": "11c129b3",
   "metadata": {},
   "outputs": [
    {
     "name": "stdout",
     "output_type": "stream",
     "text": [
      "╒══════════╤══════════╤═════════╤═════════════╤════════╤════════╤═══════╤═════════╕\n",
      "│ name     │   height │   width │   grayscale │      R │      G │     B │   ALPHA │\n",
      "╞══════════╪══════════╪═════════╪═════════════╪════════╪════════╪═══════╪═════════╡\n",
      "│ bw       │      512 │     512 │       21.48 │   0.00 │   0.00 │  0.00 │    0.00 │\n",
      "├──────────┼──────────┼─────────┼─────────────┼────────┼────────┼───────┼─────────┤\n",
      "│ daffodil │      500 │     335 │        0.00 │ 109.25 │  85.56 │  4.97 │    0.00 │\n",
      "├──────────┼──────────┼─────────┼─────────────┼────────┼────────┼───────┼─────────┤\n",
      "│ eclipse  │      256 │     256 │        0.00 │ 109.05 │ 109.52 │ 39.85 │  133.59 │\n",
      "├──────────┼──────────┼─────────┼─────────────┼────────┼────────┼───────┼─────────┤\n",
      "│ trump    │      183 │     275 │        0.00 │  97.01 │  98.99 │ 90.92 │    0.00 │\n",
      "╘══════════╧══════════╧═════════╧═════════════╧════════╧════════╧═══════╧═════════╛\n"
     ]
    }
   ],
   "source": [
    "# Script step 3\n",
    "\n",
    "# importiamo i moduli che ci serviranno\n",
    "import os\n",
    "import numpy as np\n",
    "from PIL import Image\n",
    "from tabulate import tabulate\n",
    "\n",
    "# creiamo una tabella vuota che verrà riempita ad ogni iterazione\n",
    "tab = []\n",
    "\n",
    "# iteriamo i file nella cartella \"images\"\n",
    "for im in os.listdir(\"images\"):\n",
    "    image_file = (\"images/\" + im) # specifica il percorso del file\n",
    "    image = Image.open(image_file)  # apre l'immagine\n",
    "    image_array = np.array(image)  # trasforma l'immagine in un array numpy\n",
    "    name = im.split(\".\")[0]  # separa il nome dal formato per isolare il nome\n",
    "    height = np.shape(image_array)[0]  # restituisce l'altezza dell'immagine\n",
    "    width = np.shape(image_array)[1]  # restituisce la larghezza dell'immagine\n",
    "\n",
    "# usiamo \"ndim\" per effettuare diverse operazioni a seconda del numero delle dimensioni dell'array\n",
    "    if image_array.ndim == 2:  # se le dimensioni sono 2, vuol dire che si tratta di un'immagine in bianco e nero\n",
    "        grayscale = np.mean(image_array)  # calcoliamo la scala del grigio\n",
    "        R, G, B, ALPHA = 0.00, 0.00, 0.00, 0.00\n",
    "\n",
    "    elif image_array.ndim == 3:  # se le dimensioni sono 3, vuol dire che si tratta di un'immagine a colori\n",
    "        grayscale = 0.00  # essendo un'immagine a colori, la scala di grigio sarà 0\n",
    "        # con l'uso degli slicing degli array calcoliamo la scala di colori facendone la media\n",
    "        R = np.mean(image_array[:, :, 0])\n",
    "        G = np.mean(image_array[:, :, 1])\n",
    "        B = np.mean(image_array[:, :, 2])\n",
    "\n",
    "        # se gli elementi della terza dimensione sono 3, l'immagine è RGB, quindi ALPHA sarà 0\n",
    "        if np.shape(image_array)[2] == 3:\n",
    "            ALPHA = 0.00\n",
    "\n",
    "        # se gli elementi della terza dimensione sono 4, l'immagine è RGBA, quindi andremo a calcolare il valore di ALPHA\n",
    "        elif np.shape(image_array)[2] == 4:\n",
    "            ALPHA = np.mean(image_array[:, :, 3])\n",
    "\n",
    "# creiamo una lista con le informazioni ottenute e l'aggiungiamo alla lista \"tabella\", creando così una lista di liste\n",
    "    tab.append([name, height, width, grayscale, R, G, B, ALPHA])\n",
    "\n",
    "# infine con il modulo \"tabulate\" creiamo e stampiamo la tabella, specificande nell'headers le etichette delle colonne\n",
    "headers = [\"name\", \"height\", \"width\", \"grayscale\", \"R\", \"G\", \"B\", \"ALPHA\"]\n",
    "print(tabulate(tab, headers=headers,tablefmt=\"fancy_grid\",floatfmt='.2f'))"
   ]
  },
  {
   "cell_type": "code",
   "execution_count": null,
   "id": "90f07332",
   "metadata": {},
   "outputs": [],
   "source": []
  }
 ],
 "metadata": {
  "kernelspec": {
   "display_name": "Python 3 (ipykernel)",
   "language": "python",
   "name": "python3"
  },
  "language_info": {
   "codemirror_mode": {
    "name": "ipython",
    "version": 3
   },
   "file_extension": ".py",
   "mimetype": "text/x-python",
   "name": "python",
   "nbconvert_exporter": "python",
   "pygments_lexer": "ipython3",
   "version": "3.9.7"
  }
 },
 "nbformat": 4,
 "nbformat_minor": 5
}
