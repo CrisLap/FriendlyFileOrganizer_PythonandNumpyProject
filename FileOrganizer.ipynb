{
 "cells": [
  {
   "cell_type": "markdown",
   "id": "b374a7d1",
   "metadata": {},
   "source": [
    "The following script creates the folders (after checking that they don't already exist) 'audio', 'docs' and 'images'. It then iterates over the main folder, moving each file according to its extension to the relevant folder, and compiles a csv file in which it notes the name, format and size of that file. As indicated, it is assumed that the notebook is at the same level (i.e. in the same folder) as the files folder that contains the files to be moved. Relative references are therefore used"
   ]
  },
  {
   "cell_type": "code",
   "execution_count": 1,
   "id": "eef41225",
   "metadata": {},
   "outputs": [
    {
     "name": "stdout",
     "output_type": "stream",
     "text": [
      "bw type:image size:94926B\n",
      "ciao type:doc size:12B\n",
      "daffodil type:image size:24657B\n",
      "eclipse type:image size:64243B\n",
      "pippo type:doc size:8299B\n",
      "song1 type:audio size:1087849B\n",
      "song2 type:audio size:764176B\n",
      "trump type:image size:10195B\n"
     ]
    }
   ],
   "source": [
    "# Script step 1\n",
    "\n",
    "# import the libraries we will need\n",
    "import os\n",
    "import shutil\n",
    "import csv\n",
    "\n",
    "# First, I create the folders (if they do not already exist) into which the files will be moved.\n",
    "for foldername in [\"audio\", \"docs\", \"images\"]:\n",
    "    new_folder = os.path.join(\"\", foldername)\n",
    "    if not os.path.exists(new_folder):\n",
    "        os.makedirs(new_folder)\n",
    "\n",
    "# I create tuples containing the most common file formats for each type of file I'm going to analyse:\n",
    "\n",
    "docs_extensions = (\".txt\", \".doc\", \".docx\", \".pages\", \".odt\", \".rtf\", \".tex\")\n",
    "audio_extensions = (\".mp3\", \".mp4\", \".m4a\", \".wma\", \".flac\", \",aac\")\n",
    "images_extensions = (\".jpg\", \".jpeg\", \".png\", \".gif\", \".bmp\", \".tiff\")\n",
    "\n",
    "# I check if the recape file exists and create it if necessary\n",
    "if not os.path.exists(\"recap.csv\"):  # if it doesn't exist\n",
    "    recap = open(\"recap.csv\",\"w\", newline=\"\")# I create it\n",
    "    writer = csv.writer(recap)\n",
    "    writer.writerow([\"name\", \"type\", \"size (B)\"]) # I write csv header\n",
    "else:  # if it already exists\n",
    "    recap = open(\"recap.csv\", \"a\", newline=\"\") # I open it in 'append' with 'a'\n",
    "    writer = csv.writer(recap)\n",
    "\n",
    "\n",
    "# I iterate the files in the 'files' folder in alphabetical order:\n",
    "for file in sorted(os.listdir()):\n",
    "    \n",
    "    file_name, file_extention = os.path.splitext(file) # I separate the file name from its extension\n",
    "    current_folder = \"\" + file  # specifies the file path\n",
    "    size = os.stat(current_folder).st_size  # calculates file size\n",
    "\n",
    "   # I use the 'endswith' method to take file formats and allocate them into the corresponding folders:\n",
    "    if file.endswith(docs_extensions):\n",
    "        # this will be the folder into which the docs file will be moved\n",
    "        final_folder = (\"docs/\" + file)\n",
    "        # with shutil.move I move the file from the start folder to the destination folder\n",
    "        shutil.move(current_folder, final_folder)\n",
    "        writer.writerow([file_name, \"doc\", size])  # update recap\n",
    "        # print the required file info (name, type and size in bytes) according to the desired output\n",
    "        print(\"{} type:doc size:{}B\".format(file_name, size))\n",
    "\n",
    "    elif file.endswith(audio_extensions):\n",
    "        # this will be the folder into which the audio file will be moved\n",
    "        final_folder = (\"audio/\" + file)\n",
    "        # with shutil.move I move the file from the start folder to the destination folder\n",
    "        shutil.move(current_folder, final_folder)\n",
    "        writer.writerow([file_name, \"audio\", size])  # update recap\n",
    "        # print the required file info (name, type and size in bytes) according to the desired output\n",
    "        print(\"{} type:audio size:{}B\".format(file_name, size))\n",
    "\n",
    "    elif file.endswith(images_extensions):\n",
    "        # this will be the folder into which the image file will be moved\n",
    "        final_folder = (\"images/\" + file)\n",
    "        # with shutil.move I move the file from the start folder to the destination folder\n",
    "        shutil.move(current_folder, final_folder)\n",
    "        writer.writerow([file_name, \"image\", size])  # update recap\n",
    "        # print the required file info (name, type and size in bytes) according to the desired output\n",
    "        print(\"{} type:image size:{}B\".format(file_name, size))\n",
    "\n",
    "recap.close()  # I close the recap file at the end of compilation"
   ]
  },
  {
   "cell_type": "markdown",
   "id": "7be25c63",
   "metadata": {},
   "source": [
    "The following script, instead, analyses the images in the images folder and extracts their colour information using the Numpy library.\n",
    "Finally, it prints out a table containing the information gathered."
   ]
  },
  {
   "cell_type": "code",
   "execution_count": 2,
   "id": "11c129b3",
   "metadata": {},
   "outputs": [
    {
     "name": "stdout",
     "output_type": "stream",
     "text": [
      "╒══════════╤══════════╤═════════╤═════════════╤════════╤════════╤═══════╤═════════╕\n",
      "│ name     │   height │   width │   grayscale │      R │      G │     B │   ALPHA │\n",
      "╞══════════╪══════════╪═════════╪═════════════╪════════╪════════╪═══════╪═════════╡\n",
      "│ bw       │      512 │     512 │       21.48 │   0.00 │   0.00 │  0.00 │    0.00 │\n",
      "├──────────┼──────────┼─────────┼─────────────┼────────┼────────┼───────┼─────────┤\n",
      "│ daffodil │      500 │     335 │        0.00 │ 109.25 │  85.56 │  4.97 │    0.00 │\n",
      "├──────────┼──────────┼─────────┼─────────────┼────────┼────────┼───────┼─────────┤\n",
      "│ eclipse  │      256 │     256 │        0.00 │ 109.05 │ 109.52 │ 39.85 │  133.59 │\n",
      "├──────────┼──────────┼─────────┼─────────────┼────────┼────────┼───────┼─────────┤\n",
      "│ trump    │      183 │     275 │        0.00 │  97.01 │  98.99 │ 90.92 │    0.00 │\n",
      "╘══════════╧══════════╧═════════╧═════════════╧════════╧════════╧═══════╧═════════╛\n"
     ]
    }
   ],
   "source": [
    "# Script step 3\n",
    "\n",
    "# import the libraries we will need\n",
    "import os\n",
    "import numpy as np\n",
    "from PIL import Image\n",
    "from tabulate import tabulate\n",
    "\n",
    "# create an empty table that will be filled at each iteration\n",
    "tab = []\n",
    "\n",
    "# I iterate the files in the 'images' folder\n",
    "for im in os.listdir(\"images\"):\n",
    "    image_file = (\"images/\" + im) # specifies the file path\n",
    "    image = Image.open(image_file)  # opens the image\n",
    "    image_array = np.array(image)  # transforms the image into a numpy array\n",
    "    name = im.split(\".\")[0]  # separates the name from the format to isolate the name\n",
    "    height = np.shape(image_array)[0]  # returns the height of the image\n",
    "    width = np.shape(image_array)[1]  # returns the width of the image\n",
    "\n",
    "# I use 'ndim' to perform different operations depending on the number of array dimensions\n",
    "    if image_array.ndim == 2:  # if the dimensions are 2, it means that it is a black and white image\n",
    "        grayscale = np.mean(image_array)   # I calculate the grey scale\n",
    "        R, G, B, ALPHA = 0.00, 0.00, 0.00, 0.00\n",
    "\n",
    "    elif image_array.ndim == 3:  # if the dimensions are 3, it means that it is a colour image\n",
    "        grayscale = 0.00  # being a colour image, the greyscale will be 0\n",
    "        # using array slicing we calculate the colour scale by averaging it\n",
    "        R = np.mean(image_array[:, :, 0])\n",
    "        G = np.mean(image_array[:, :, 1])\n",
    "        B = np.mean(image_array[:, :, 2])\n",
    "\n",
    "        # if the elements of the third dimension are 3, the image is RGB, so ALPHA will be 0\n",
    "        if np.shape(image_array)[2] == 3:\n",
    "            ALPHA = 0.00\n",
    "\n",
    "        # if the elements of the third dimension are 4, the image is RGBA, so we will calculate the value of ALPHA\n",
    "        elif np.shape(image_array)[2] == 4:\n",
    "            ALPHA = np.mean(image_array[:, :, 3])\n",
    "\n",
    "# I create a list with the information obtained and add it to the 'table' list, thus creating a list of lists\n",
    "    tab.append([name, height, width, grayscale, R, G, B, ALPHA])\n",
    "\n",
    "# finally with the 'tabulate' module we create and print the table, specifying column labels in the headers\n",
    "headers = [\"name\", \"height\", \"width\", \"grayscale\", \"R\", \"G\", \"B\", \"ALPHA\"]\n",
    "print(tabulate(tab, headers=headers,tablefmt=\"fancy_grid\",floatfmt='.2f'))"
   ]
  },
  {
   "cell_type": "code",
   "execution_count": null,
   "id": "90f07332",
   "metadata": {},
   "outputs": [],
   "source": []
  }
 ],
 "metadata": {
  "hide_input": false,
  "kernelspec": {
   "display_name": "Python 3 (ipykernel)",
   "language": "python",
   "name": "python3"
  },
  "language_info": {
   "codemirror_mode": {
    "name": "ipython",
    "version": 3
   },
   "file_extension": ".py",
   "mimetype": "text/x-python",
   "name": "python",
   "nbconvert_exporter": "python",
   "pygments_lexer": "ipython3",
   "version": "3.9.12"
  }
 },
 "nbformat": 4,
 "nbformat_minor": 5
}
